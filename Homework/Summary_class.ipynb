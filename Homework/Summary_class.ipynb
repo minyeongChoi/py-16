{
  "nbformat": 4,
  "nbformat_minor": 0,
  "metadata": {
    "colab": {
      "name": "Summary_class",
      "version": "0.3.2",
      "provenance": [],
      "collapsed_sections": [],
      "include_colab_link": true
    },
    "kernelspec": {
      "name": "python2",
      "display_name": "Python 2"
    }
  },
  "cells": [
    {
      "cell_type": "markdown",
      "metadata": {
        "id": "view-in-github",
        "colab_type": "text"
      },
      "source": [
        "<a href=\"https://colab.research.google.com/github/minyeongChoi/py-16/blob/master/Homework/Summary_class.ipynb\" target=\"_parent\"><img src=\"https://colab.research.google.com/assets/colab-badge.svg\" alt=\"Open In Colab\"/></a>"
      ]
    },
    {
      "metadata": {
        "id": "1_KOI-0Fg-Zr",
        "colab_type": "toc"
      },
      "cell_type": "markdown",
      "source": [
        ">>[클래스 - class](#scrollTo=kezNTpZ4RCdU)\n",
        "\n",
        ">>[예외처리 - exception](#scrollTo=7bvmy2ejdJDc)\n",
        "\n",
        ">>[with 구문](#scrollTo=-EgUi415fYeL)\n",
        "\n"
      ]
    },
    {
      "metadata": {
        "id": "kezNTpZ4RCdU",
        "colab_type": "text"
      },
      "cell_type": "markdown",
      "source": [
        "##클래스 - class \n",
        "  파이썬 클래스는 class 키워드를 사용하여 자신만의 데이터 타입을 만들 수 있다.\n",
        " "
      ]
    },
    {
      "metadata": {
        "id": "qXdIBBIMLNLN",
        "colab_type": "code",
        "outputId": "c8993241-f50d-4c7b-bdc8-89aee72a5f20",
        "colab": {
          "base_uri": "https://localhost:8080/",
          "height": 87
        }
      },
      "cell_type": "code",
      "source": [
        "class Person:\n",
        "  \n",
        "  def __init__(self, name):\n",
        "    self.name = name\n",
        "    print(self.name + \" is initialized\")\n",
        "    \n",
        "  def work(self, company):\n",
        "      print(self.name + \" is working in\" + company)\n",
        "  \n",
        "  def sleep(self):\n",
        "      print(self.name + \" is sleeping\")\n",
        "      \n",
        "# Person instance 2개 생성\n",
        "obj = Person(\"PARK\")\n",
        "\n",
        "# method call\n",
        "obj.work(\"ABCDEF\")\n",
        "obj.sleep()\n",
        "\n",
        "# 속성에 직접 접근. 기본적으로 파이썬에서는 모두 public\n",
        "print(\"current person object is\", obj.name)"
      ],
      "execution_count": 0,
      "outputs": [
        {
          "output_type": "stream",
          "text": [
            "PARK is initialized\n",
            "PARK is working inABCDEF\n",
            "PARK is sleeping\n",
            "('current person object is', 'PARK')\n"
          ],
          "name": "stdout"
        }
      ]
    },
    {
      "metadata": {
        "id": "_QQ65WvDRw0e",
        "colab_type": "code",
        "outputId": "bcbb7e2c-b9b1-404f-e5a9-7e21530d779f",
        "colab": {
          "base_uri": "https://localhost:8080/",
          "height": 140
        }
      },
      "cell_type": "code",
      "source": [
        "class Person:\n",
        "    \n",
        "    count = 0          # class variable\n",
        "\n",
        "    def __init__(self, name):\n",
        "      self.name = name\n",
        "      Person.count +=1    # class 변수 count 증가\n",
        "      print(self.name + \" is initialized\")\n",
        "      \n",
        "    def work(self, company):\n",
        "      print(self.name + \" is working in \" + company)\n",
        "      \n",
        "    def sleep(self):\n",
        "      print(self.name + \" is sleeping\")\n",
        "      \n",
        "    @classmethod            # 해당 메소드가 클래스 메소드임을 표시\n",
        "    def getCount(cls):      # class method\n",
        "      return cls.count      # self 대신 cls라는 클래스를 의미하는 파라미터를 인수로 전달받음\n",
        "    \n",
        "# Person ingtance 2개 생성\n",
        "obj1 = Person(\"PARK\")\n",
        "obj2 = Person(\"KIM\")\n",
        "\n",
        "# method call\n",
        "obj1.work(\"ABCDEF\")\n",
        "\n",
        "obj2.sleep()\n",
        "\n",
        "# 속성에 직접 접근, 기본적으로 파이썬에서는 모두 public\n",
        "print(\"current person object is \", obj1.name, \", \", obj2.name)\n",
        "\n",
        "# class method 호출\n",
        "print(\"Person count ==\", Person.getCount() )\n",
        "\n",
        "# class variable direct access\n",
        "print(Person.count)\n",
        "   "
      ],
      "execution_count": 0,
      "outputs": [
        {
          "output_type": "stream",
          "text": [
            "PARK is initialized\n",
            "KIM is initialized\n",
            "PARK is working in ABCDEF\n",
            "KIM is sleeping\n",
            "('current person object is ', 'PARK', ', ', 'KIM')\n",
            "('Person count ==', 2)\n",
            "2\n"
          ],
          "name": "stdout"
        }
      ]
    },
    {
      "metadata": {
        "id": "ezh6tKu-RBpO",
        "colab_type": "code",
        "outputId": "c0c7b56a-6445-4c11-c953-73ba05ba9e48",
        "colab": {
          "base_uri": "https://localhost:8080/",
          "height": 292
        }
      },
      "cell_type": "code",
      "source": [
        "# 파이썬은 기본적으로 모든 멤버가 public 이기에, 외부에서 직접 접근 가능함\n",
        "\n",
        "class PrivateMemberTest:\n",
        "  \n",
        "    def __init__(self, name1, name2):\n",
        "      \n",
        "      self.name1 = name1\n",
        "      self.__name2 = name2  #private member variable\n",
        "      print(\"initializedwith \" + name1 + \" ,\" + name2)\n",
        "      \n",
        "    def getNames(self):\n",
        "      self.__printNames()\n",
        "      return self.name1, self.__name2\n",
        "    \n",
        "    def __printNames(self):\n",
        "      print(self.name1, self.__name2)\n",
        "      \n",
        "# 인스턴스 생성\n",
        "obj = PrivateMemberTest(\"PARk\", \"KIM\")\n",
        "\n",
        "print(obj.name1)\n",
        "print(obj.getNames())\n",
        "print(obj.__printNames()) # error 발생\n",
        "print(obj.__name2)    # error 발생 "
      ],
      "execution_count": 0,
      "outputs": [
        {
          "output_type": "stream",
          "text": [
            "initializedwith PARk ,KIM\n",
            "PARk\n",
            "('PARk', 'KIM')\n",
            "('PARk', 'KIM')\n"
          ],
          "name": "stdout"
        },
        {
          "output_type": "error",
          "ename": "AttributeError",
          "evalue": "ignored",
          "traceback": [
            "\u001b[0;31m\u001b[0m",
            "\u001b[0;31mAttributeError\u001b[0mTraceback (most recent call last)",
            "\u001b[0;32m<ipython-input-9-dc27861c0090>\u001b[0m in \u001b[0;36m<module>\u001b[0;34m()\u001b[0m\n\u001b[1;32m     20\u001b[0m \u001b[0;32mprint\u001b[0m\u001b[0;34m(\u001b[0m\u001b[0mobj\u001b[0m\u001b[0;34m.\u001b[0m\u001b[0mname1\u001b[0m\u001b[0;34m)\u001b[0m\u001b[0;34m\u001b[0m\u001b[0m\n\u001b[1;32m     21\u001b[0m \u001b[0;32mprint\u001b[0m\u001b[0;34m(\u001b[0m\u001b[0mobj\u001b[0m\u001b[0;34m.\u001b[0m\u001b[0mgetNames\u001b[0m\u001b[0;34m(\u001b[0m\u001b[0;34m)\u001b[0m\u001b[0;34m)\u001b[0m\u001b[0;34m\u001b[0m\u001b[0m\n\u001b[0;32m---> 22\u001b[0;31m \u001b[0;32mprint\u001b[0m\u001b[0;34m(\u001b[0m\u001b[0mobj\u001b[0m\u001b[0;34m.\u001b[0m\u001b[0m__printNames\u001b[0m\u001b[0;34m(\u001b[0m\u001b[0;34m)\u001b[0m\u001b[0;34m)\u001b[0m \u001b[0;31m# error 발생\u001b[0m\u001b[0;34m\u001b[0m\u001b[0m\n\u001b[0m\u001b[1;32m     23\u001b[0m \u001b[0;32mprint\u001b[0m\u001b[0;34m(\u001b[0m\u001b[0mobj\u001b[0m\u001b[0;34m.\u001b[0m\u001b[0m__name2\u001b[0m\u001b[0;34m)\u001b[0m    \u001b[0;31m# error 발생\u001b[0m\u001b[0;34m\u001b[0m\u001b[0m\n",
            "\u001b[0;31mAttributeError\u001b[0m: PrivateMemberTest instance has no attribute '__printNames'"
          ]
        }
      ]
    },
    {
      "metadata": {
        "id": "Ne7GviMMbBea",
        "colab_type": "code",
        "outputId": "624d160b-7acc-4fe9-c660-12a7881f84a1",
        "colab": {
          "base_uri": "https://localhost:8080/",
          "height": 87
        }
      },
      "cell_type": "code",
      "source": [
        "def print_name(name):\n",
        "  \n",
        "  print(\"[def] \", name)\n",
        "  \n",
        "class SameTest:\n",
        "  \n",
        "  def __init__(self):\n",
        "    # 아무것도 안하기 때문에 pass\n",
        "    pass\n",
        "  \n",
        "  # 외부함수와 동일한 이름으로 method 정의\n",
        "  def print_name(self, name):\n",
        "    print(\"[SameTest] \", name)\n",
        "   \n",
        "  def call_test(self):\n",
        "    \n",
        "    #외부함수 호출\n",
        "    print_name(\"KIM\")\n",
        "    \n",
        "    # 클래스 내부 method 호출\n",
        "    self.print_name(\"KIM\")\n",
        "    \n",
        "# create SameTest object\n",
        "obj = SameTest()\n",
        "\n",
        "# call function print_name\n",
        "print_name(\"LEE\")\n",
        "\n",
        "# call method print_name\n",
        "obj.print_name(\"LEE\")\n",
        "\n",
        "# call method call_test\n",
        "obj.call_test()\n",
        "    \n",
        "  "
      ],
      "execution_count": 0,
      "outputs": [
        {
          "output_type": "stream",
          "text": [
            "('[def] ', 'LEE')\n",
            "('[SameTest] ', 'LEE')\n",
            "('[def] ', 'KIM')\n",
            "('[SameTest] ', 'KIM')\n"
          ],
          "name": "stdout"
        }
      ]
    },
    {
      "metadata": {
        "id": "7bvmy2ejdJDc",
        "colab_type": "text"
      },
      "cell_type": "markdown",
      "source": [
        "## 예외처리 - exception"
      ]
    },
    {
      "metadata": {
        "id": "s1VgJR2LdP_W",
        "colab_type": "code",
        "colab": {}
      },
      "cell_type": "code",
      "source": [
        "def calc(list_data):\n",
        "  \n",
        "  sum = 0\n",
        "  \n",
        "  try:\n",
        "    sum = list_data[0] + list_data[1] + list_data[2]\n",
        "    \n",
        "    if sum < 0:\n",
        "      raise Exception(\"Sum is minus\")    \n",
        "      \n",
        "  except IndexError as err:         \n",
        "    print(str(err))\n",
        "  except Exception as err:\n",
        "    print(str(err))\n",
        "  finally:             \n",
        "    print(sum)"
      ],
      "execution_count": 0,
      "outputs": []
    },
    {
      "metadata": {
        "id": "jS8GJ7S8eJYV",
        "colab_type": "code",
        "outputId": "9f654879-5fc7-4495-9931-2085a8fb3b94",
        "colab": {
          "base_uri": "https://localhost:8080/",
          "height": 52
        }
      },
      "cell_type": "code",
      "source": [
        "calc([1, 2]) # index error 발생"
      ],
      "execution_count": 0,
      "outputs": [
        {
          "output_type": "stream",
          "text": [
            "list index out of range\n",
            "0\n"
          ],
          "name": "stdout"
        }
      ]
    },
    {
      "metadata": {
        "id": "iTBTJc1ieQs1",
        "colab_type": "code",
        "outputId": "68a16f97-8d50-4279-ced5-7afc44c9cec7",
        "colab": {
          "base_uri": "https://localhost:8080/",
          "height": 52
        }
      },
      "cell_type": "code",
      "source": [
        "calc([1, 2, -100]) # 인위적인 exception 발생"
      ],
      "execution_count": 0,
      "outputs": [
        {
          "output_type": "stream",
          "text": [
            "Sum is minus\n",
            "-97\n"
          ],
          "name": "stdout"
        }
      ]
    },
    {
      "metadata": {
        "id": "-EgUi415fYeL",
        "colab_type": "text"
      },
      "cell_type": "markdown",
      "source": [
        "## with 구문"
      ]
    },
    {
      "metadata": {
        "id": "wr5h21pafYFk",
        "colab_type": "code",
        "colab": {}
      },
      "cell_type": "code",
      "source": [
        "# 일반적인 방법\n",
        "\n",
        "f = open(\"./file_test\", 'w')\n",
        "\n",
        "f.write(\"Hello. Python !!!\")\n",
        "\n",
        "f.close()"
      ],
      "execution_count": 0,
      "outputs": []
    },
    {
      "metadata": {
        "id": "AySDz5tJgBZ9",
        "colab_type": "code",
        "colab": {}
      },
      "cell_type": "code",
      "source": [
        "# with 구문을 사용한 방법\n",
        "# with 블록을 벗어나는 순간 파일 객체 f가 자동으로close 됨.\n",
        "\n",
        "with open(\"./file_test\", 'w') as f:\n",
        "  f.write(\"Hello, Python !!!\")"
      ],
      "execution_count": 0,
      "outputs": []
    }
  ]
}