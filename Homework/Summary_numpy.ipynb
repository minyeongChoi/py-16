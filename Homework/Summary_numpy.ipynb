{
  "nbformat": 4,
  "nbformat_minor": 0,
  "metadata": {
    "colab": {
      "name": "Summary_numpy_py12.ipynb의 사본",
      "version": "0.3.2",
      "provenance": [],
      "collapsed_sections": [],
      "include_colab_link": true
    },
    "kernelspec": {
      "name": "python3",
      "display_name": "Python 3"
    }
  },
  "cells": [
    {
      "cell_type": "markdown",
      "metadata": {
        "id": "view-in-github",
        "colab_type": "text"
      },
      "source": [
        "<a href=\"https://colab.research.google.com/github/minyeongChoi/py-16/blob/master/Summary_numpy.ipynb\" target=\"_parent\"><img src=\"https://colab.research.google.com/assets/colab-badge.svg\" alt=\"Open In Colab\"/></a>"
      ]
    },
    {
      "metadata": {
        "id": "KQXu2k6QYCxe",
        "colab_type": "toc"
      },
      "cell_type": "markdown",
      "source": [
        ">>[라이브러리 - overview](#scrollTo=W-zP7IysFaau)\n",
        "\n",
        ">>>[라이브러리 설치](#scrollTo=W-zP7IysFaau)\n",
        "\n",
        ">>[라이브러리 - numpy](#scrollTo=72WBxcW0HCyt)\n",
        "\n",
        ">>>[머신러닝 코드 개발 할때 자주 사용되는 벡터, 행렬 등을 표현하고 연산할 때 반드시 필요한 라이브러리](#scrollTo=72WBxcW0HCyt)\n",
        "\n",
        ">>[라이브러리 - numpy vector(1차원 배열)](#scrollTo=as58v-9CFXzp)\n",
        "\n",
        ">>>[벡터 생성 -> np.array([⋯])를 사용하여 생성](#scrollTo=as58v-9CFXzp)\n",
        "\n",
        ">>>[벡터 산술연산](#scrollTo=LOTUx18BMADT)\n",
        "\n",
        ">>[라이브러리 - numpy matrix (행렬)](#scrollTo=WNc4xpQEF7vy)\n",
        "\n",
        ">>>[형 변환 (reshape)](#scrollTo=QvTd1NKtGMep)\n",
        "\n",
        ">>[라이브러리 - numpy 행렬 곱(dot product) (1)](#scrollTo=VDy3wu1DGhMS)\n",
        "\n",
        ">>>[reshape 또는 전치행렬 등을 사용하여 형 변환을 한 후에 행렬 곱 실행해야 함](#scrollTo=VDy3wu1DGhMS)\n",
        "\n",
        ">>>[행렬 곱](#scrollTo=VDy3wu1DGhMS)\n",
        "\n",
        ">>[라이브러리 - numpy 행렬 곱(dot product) (2)](#scrollTo=N2SXRf-xPQ0f)\n",
        "\n",
        ">>[라이브러리 - numpy broadcast](#scrollTo=tHcL3gb1Qdfc)\n",
        "\n",
        ">>>[행렬의 사칙연산은 기본적으로 두개의 행렬 크기가 같은 경우에만 수행할 수 있으나 numpy 에서는 크기가 다른 두 행렬 간에도 사칙연산을 할 수 있는데 이를 브로드캐스트라고 지칭](#scrollTo=tHcL3gb1Qdfc)\n",
        "\n",
        ">>>[-> 차원이 작은 쪽이 큰 쪽의 행 단위로 반복적으로 크기를 맞춘 후에 계산](#scrollTo=tHcL3gb1Qdfc)\n",
        "\n",
        ">>[라이브러리 - numpy 전치행렬 (transpose)](#scrollTo=O5SjyxayRcOi)\n",
        "\n",
        ">>>[정치행렬](#scrollTo=O5SjyxayRcOi)\n",
        "\n",
        ">>[라이브러리 - numpy 행렬 indexing / slicing](#scrollTo=PopFpNw-Ti9H)\n",
        "\n",
        ">>>[행렬 원소 접근 (1)](#scrollTo=PopFpNw-Ti9H)\n",
        "\n",
        ">>[라이브러리 - numpy 행렬 iterator](#scrollTo=Y8eZ0E7LWJIX)\n",
        "\n",
        ">>>[행렬 원소 접근(2)](#scrollTo=Y8eZ0E7LWJIX)\n",
        "\n"
      ]
    },
    {
      "metadata": {
        "id": "W-zP7IysFaau",
        "colab_type": "text"
      },
      "cell_type": "markdown",
      "source": [
        "## 라이브러리 - overview\n",
        "### 라이브러리 설치 "
      ]
    },
    {
      "metadata": {
        "id": "DoaBTxPJFH7N",
        "colab_type": "code",
        "colab": {
          "base_uri": "https://localhost:8080/",
          "height": 35
        },
        "outputId": "dd6a5dc3-4e7a-4b0c-e3bc-fa1727d8a10d"
      },
      "cell_type": "code",
      "source": [
        "import numpy\n",
        "\n",
        "A=numpy.array([1,2])\n",
        "\n",
        "print(\"A ==\",A, \", type ==\",type(A))"
      ],
      "execution_count": 1,
      "outputs": [
        {
          "output_type": "stream",
          "text": [
            "A == [1 2] , type == <class 'numpy.ndarray'>\n"
          ],
          "name": "stdout"
        }
      ]
    },
    {
      "metadata": {
        "id": "EAtzwggLGBtn",
        "colab_type": "code",
        "colab": {
          "base_uri": "https://localhost:8080/",
          "height": 35
        },
        "outputId": "8914693c-3033-43e3-b4df-c7d046c0e97d"
      },
      "cell_type": "code",
      "source": [
        "import numpy as np\n",
        "\n",
        "A=np.array([1,2])\n",
        "\n",
        "print(\"A ==\",A, \", type ==\", type(A))"
      ],
      "execution_count": 2,
      "outputs": [
        {
          "output_type": "stream",
          "text": [
            "A == [1 2] , type == <class 'numpy.ndarray'>\n"
          ],
          "name": "stdout"
        }
      ]
    },
    {
      "metadata": {
        "id": "4qkgqt5LGR3v",
        "colab_type": "code",
        "colab": {
          "base_uri": "https://localhost:8080/",
          "height": 35
        },
        "outputId": "ead351c1-694b-46a2-dec2-432abe384ba3"
      },
      "cell_type": "code",
      "source": [
        "from numpy import exp\n",
        "\n",
        "result = exp(1)\n",
        "\n",
        "print(\"result ==\",result, \", type ==\",type(result))"
      ],
      "execution_count": 3,
      "outputs": [
        {
          "output_type": "stream",
          "text": [
            "result == 2.718281828459045 , type == <class 'numpy.float64'>\n"
          ],
          "name": "stdout"
        }
      ]
    },
    {
      "metadata": {
        "id": "2K5iyM9UGjFK",
        "colab_type": "code",
        "colab": {
          "base_uri": "https://localhost:8080/",
          "height": 35
        },
        "outputId": "8f6a9a9b-7657-4201-f8d9-5c576e564ca5"
      },
      "cell_type": "code",
      "source": [
        "from numpy import *\n",
        "\n",
        "result = exp(1) + log(1.7) + sqrt(2)\n",
        "\n",
        "print(\"result ==\",result, \", type ==\",type(result))"
      ],
      "execution_count": 4,
      "outputs": [
        {
          "output_type": "stream",
          "text": [
            "result == 4.663123641894311 , type == <class 'numpy.float64'>\n"
          ],
          "name": "stdout"
        }
      ]
    },
    {
      "metadata": {
        "id": "72WBxcW0HCyt",
        "colab_type": "text"
      },
      "cell_type": "markdown",
      "source": [
        "## 라이브러리 - numpy\n",
        "\n",
        "### 머신러닝 코드 개발 할때 자주 사용되는 벡터, 행렬 등을 표현하고 연산할 때 반드시 필요한 라이브러리\n",
        "\n",
        "\n",
        "\n",
        "*  숫자, 사람, 동물 등의 인식을 하기 위해서 \n",
        "이미지데이터를 행렬로 변환하는것이 중요함\n",
        "\n",
        "*   행렬 연산을 위해서는 리스트를 사용할 수도 있지만 ,\n",
        "오류가능성이 높기 때문에,  *행렬 연산을 위해서는 numpy 사용이 필수이다.*\n",
        "\n"
      ]
    },
    {
      "metadata": {
        "id": "pMhZMRfaG2Dw",
        "colab_type": "code",
        "colab": {}
      },
      "cell_type": "code",
      "source": [
        "import numpy as np"
      ],
      "execution_count": 0,
      "outputs": []
    },
    {
      "metadata": {
        "id": "qQRlCEJ5IB5t",
        "colab_type": "code",
        "colab": {
          "base_uri": "https://localhost:8080/",
          "height": 35
        },
        "outputId": "72526489-d037-4a73-981b-aacc113e5630"
      },
      "cell_type": "code",
      "source": [
        "# 리스트로 행렬 표현\n",
        "\n",
        "A = [[1, 0], [0, 1]]\n",
        "B = [[1, 1], [1, 1]]\n",
        "\n",
        "A + B        # 행렬 연산이 아닌 리스트 연산"
      ],
      "execution_count": 6,
      "outputs": [
        {
          "output_type": "execute_result",
          "data": {
            "text/plain": [
              "[[1, 0], [0, 1], [1, 1], [1, 1]]"
            ]
          },
          "metadata": {
            "tags": []
          },
          "execution_count": 6
        }
      ]
    },
    {
      "metadata": {
        "id": "aOV5cwJcINe1",
        "colab_type": "code",
        "colab": {
          "base_uri": "https://localhost:8080/",
          "height": 52
        },
        "outputId": "a7ff8b82-e1d8-4429-b53c-44aa4d8c8d89"
      },
      "cell_type": "code",
      "source": [
        "# numpy matrix, 직관적임\n",
        "\n",
        "A = np.array([ [1, 0], [0, 1] ])\n",
        "B = np.array([ [1, 1], [1, 1] ])\n",
        "\n",
        "A + B     # 행렬 연산"
      ],
      "execution_count": 7,
      "outputs": [
        {
          "output_type": "execute_result",
          "data": {
            "text/plain": [
              "array([[2, 1],\n",
              "       [1, 2]])"
            ]
          },
          "metadata": {
            "tags": []
          },
          "execution_count": 7
        }
      ]
    },
    {
      "metadata": {
        "id": "as58v-9CFXzp",
        "colab_type": "text"
      },
      "cell_type": "markdown",
      "source": [
        "## 라이브러리 - numpy vector(1차원 배열)\n",
        "###벡터 생성 -> np.array([⋯])를 사용하여 생성\n",
        "\n",
        "머신러닝 코드 구현시 연산을 위해서 vector, matrix 등의 형상, 차원을 확인하는 것이 필요\n",
        "\n"
      ]
    },
    {
      "metadata": {
        "id": "NOGyrc0QIdOu",
        "colab_type": "code",
        "colab": {}
      },
      "cell_type": "code",
      "source": [
        "A=np.array([1,2,3])\n",
        "B=np.array([4,5,6])"
      ],
      "execution_count": 0,
      "outputs": []
    },
    {
      "metadata": {
        "id": "bITA9SqhKJvG",
        "colab_type": "code",
        "colab": {
          "base_uri": "https://localhost:8080/",
          "height": 35
        },
        "outputId": "a5c5d4f1-92ed-42ce-d676-9e2fdfb75c8c"
      },
      "cell_type": "code",
      "source": [
        "# vector A, B 출력\n",
        "\n",
        "print(\"A ==\", A, \", B ==\", B)"
      ],
      "execution_count": 9,
      "outputs": [
        {
          "output_type": "stream",
          "text": [
            "A == [1 2 3] , B == [4 5 6]\n"
          ],
          "name": "stdout"
        }
      ]
    },
    {
      "metadata": {
        "id": "p6wrSKSPKUVJ",
        "colab_type": "code",
        "colab": {
          "base_uri": "https://localhost:8080/",
          "height": 35
        },
        "outputId": "4dfc286f-109b-4382-ecf1-fd4ba048616d"
      },
      "cell_type": "code",
      "source": [
        "# vector A, B 형상 출력 -> shape\n",
        "\n",
        "print(\"A.shape ==\", A.shape, \", B.shape ==\", B.shape)"
      ],
      "execution_count": 10,
      "outputs": [
        {
          "output_type": "stream",
          "text": [
            "A.shape == (3,) , B.shape == (3,)\n"
          ],
          "name": "stdout"
        }
      ]
    },
    {
      "metadata": {
        "id": "jPD1-bNhKlTh",
        "colab_type": "code",
        "colab": {
          "base_uri": "https://localhost:8080/",
          "height": 35
        },
        "outputId": "c7b2a0ef-3f2f-4e6c-a4b0-625db0003e41"
      },
      "cell_type": "code",
      "source": [
        "# vector A, B 차원 출력 -> ndim\n",
        "\n",
        "print(\"A.ndim ==\", A.ndim, \", B.dim ==\", B.ndim)"
      ],
      "execution_count": 11,
      "outputs": [
        {
          "output_type": "stream",
          "text": [
            "A.ndim == 1 , B.dim == 1\n"
          ],
          "name": "stdout"
        }
      ]
    },
    {
      "metadata": {
        "id": "LOTUx18BMADT",
        "colab_type": "text"
      },
      "cell_type": "markdown",
      "source": [
        "###  벡터 산술연산\n",
        "\n",
        " =>  벡터의 각각의 원소에 대해서 행해짐\n",
        "\n"
      ]
    },
    {
      "metadata": {
        "id": "wGp3Ir48KyGD",
        "colab_type": "code",
        "colab": {
          "base_uri": "https://localhost:8080/",
          "height": 88
        },
        "outputId": "921cae94-af38-4723-f987-821e4585e85d"
      },
      "cell_type": "code",
      "source": [
        "#vector 산술 연산\n",
        "\n",
        "print(\"A + B ==\", A+B)\n",
        "print(\"A - B ==\", A-B)\n",
        "print(\"A * B ==\", A*B)\n",
        "print(\"A / B ==\", A/B)"
      ],
      "execution_count": 12,
      "outputs": [
        {
          "output_type": "stream",
          "text": [
            "A + B == [5 7 9]\n",
            "A - B == [-3 -3 -3]\n",
            "A * B == [ 4 10 18]\n",
            "A / B == [0.25 0.4  0.5 ]\n"
          ],
          "name": "stdout"
        }
      ]
    },
    {
      "metadata": {
        "id": "WNc4xpQEF7vy",
        "colab_type": "text"
      },
      "cell_type": "markdown",
      "source": [
        "## 라이브러리 - numpy matrix (행렬)\n",
        "=> matrix는 vector와 마찬가지로 np.array([ [⋯], [⋯], ⋯ ])를 사용하여 생성"
      ]
    },
    {
      "metadata": {
        "id": "1dVi9iCBLBzT",
        "colab_type": "code",
        "colab": {}
      },
      "cell_type": "code",
      "source": [
        "A = np.array([ [1, 2, 3], [4, 5, 6] ])\n",
        "B = np.array([ [-1, -2, -3], [-4, -5, -6] ])"
      ],
      "execution_count": 0,
      "outputs": []
    },
    {
      "metadata": {
        "id": "s3zJzLhJMSZM",
        "colab_type": "code",
        "colab": {
          "base_uri": "https://localhost:8080/",
          "height": 35
        },
        "outputId": "69dca3a7-e381-4e40-a388-04872224fa19"
      },
      "cell_type": "code",
      "source": [
        "# matrix A, B 형상 출력 -> shape\n",
        "\n",
        "print(\"A.shape ==\", A.shape, \", B.shape ==\", B.shape)"
      ],
      "execution_count": 14,
      "outputs": [
        {
          "output_type": "stream",
          "text": [
            "A.shape == (2, 3) , B.shape == (2, 3)\n"
          ],
          "name": "stdout"
        }
      ]
    },
    {
      "metadata": {
        "id": "c4hVynPGMh98",
        "colab_type": "code",
        "colab": {
          "base_uri": "https://localhost:8080/",
          "height": 35
        },
        "outputId": "14d83587-38e0-42ec-b7c9-dd5a4ec368dd"
      },
      "cell_type": "code",
      "source": [
        "# matrix A, B 차원 출력 -> ndim\n",
        "\n",
        "print(\"A.ndim ==\", A.ndim, \"B.ndim ==\", B.ndim)"
      ],
      "execution_count": 15,
      "outputs": [
        {
          "output_type": "stream",
          "text": [
            "A.ndim == 2 B.ndim == 2\n"
          ],
          "name": "stdout"
        }
      ]
    },
    {
      "metadata": {
        "id": "QvTd1NKtGMep",
        "colab_type": "text"
      },
      "cell_type": "markdown",
      "source": [
        "### 형 변환 (reshape)\n",
        "-> 벡터를 행렬로 변경하거나 행렬을 다른 형상의 행렬로 변경하기 위해서는 reshape() 사용하여 행렬의 shape 을 변경해야한다."
      ]
    },
    {
      "metadata": {
        "id": "YkkQ3hNQMvSF",
        "colab_type": "code",
        "colab": {}
      },
      "cell_type": "code",
      "source": [
        "# vector 생성\n",
        "\n",
        "C = np.array([1, 2, 3])"
      ],
      "execution_count": 0,
      "outputs": []
    },
    {
      "metadata": {
        "id": "PV2dKyXcNHUn",
        "colab_type": "code",
        "colab": {
          "base_uri": "https://localhost:8080/",
          "height": 35
        },
        "outputId": "df525fef-0644-4d5e-dcc3-f9bb7e50d1a0"
      },
      "cell_type": "code",
      "source": [
        "# vector C 형상 출력 -> shape\n",
        "\n",
        "print(\"C.shape ==\", C.shape)"
      ],
      "execution_count": 17,
      "outputs": [
        {
          "output_type": "stream",
          "text": [
            "C.shape == (3,)\n"
          ],
          "name": "stdout"
        }
      ]
    },
    {
      "metadata": {
        "id": "XittWyLJNQSe",
        "colab_type": "code",
        "colab": {
          "base_uri": "https://localhost:8080/",
          "height": 35
        },
        "outputId": "6c4869a7-4f59-4879-f0c9-70d2c33452cb"
      },
      "cell_type": "code",
      "source": [
        "# vector를 (1,3) 행렬로 형 변환\n",
        "\n",
        "C = C.reshape(1, 3)\n",
        "\n",
        "print(\"C.shape ==\", C.shape)"
      ],
      "execution_count": 18,
      "outputs": [
        {
          "output_type": "stream",
          "text": [
            "C.shape == (1, 3)\n"
          ],
          "name": "stdout"
        }
      ]
    },
    {
      "metadata": {
        "id": "VDy3wu1DGhMS",
        "colab_type": "text"
      },
      "cell_type": "markdown",
      "source": [
        "## 라이브러리 - numpy 행렬 곱(dot product) (1)\n",
        "### reshape 또는 전치행렬 등을 사용하여 형 변환을 한 후에 행렬 곱 실행해야 함\n",
        "###행렬 곱\n",
        "=> A 행렬과 B 행렬의 행렬 곱은 np.dot(A,B)로 나타내며, A행렬의 열 벡터와 B 행렬의 행 벡터가 같아야함. 만역 같지 않다면* reshape 또는 전치행렬등을 사용하여 형 변환을 한 후에  행렬 곱 실햏해야 한다.*"
      ]
    },
    {
      "metadata": {
        "id": "JBGDP2w4NdOa",
        "colab_type": "code",
        "colab": {}
      },
      "cell_type": "code",
      "source": [
        "A = np.array([ [1, 2, 3], [4, 5, 6] ])   # 2X3 행렬\n",
        "B = np.array([ [-1, -2], [-3, -4], [-5, -6] ])   # 3X2"
      ],
      "execution_count": 0,
      "outputs": []
    },
    {
      "metadata": {
        "id": "AI3WDIZ0OgdE",
        "colab_type": "code",
        "colab": {}
      },
      "cell_type": "code",
      "source": [
        "# (2X3) dot product (3X2) == (2X2) 행렬\n",
        "\n",
        "C = np.dot(A, B)    # 행렬 곱 수행"
      ],
      "execution_count": 0,
      "outputs": []
    },
    {
      "metadata": {
        "id": "Tmg-MVVbOuNh",
        "colab_type": "code",
        "colab": {
          "base_uri": "https://localhost:8080/",
          "height": 88
        },
        "outputId": "7b17420f-a91e-464d-86fb-b878f2e2bcef"
      },
      "cell_type": "code",
      "source": [
        "# matrix A, B 형상 출력 => shape\n",
        "\n",
        "print(\"A.shape ==\", A.shape, \", B.shape ==\", B.shape)\n",
        "print(\"C.shape ==\", C.shape)\n",
        "print(C)"
      ],
      "execution_count": 21,
      "outputs": [
        {
          "output_type": "stream",
          "text": [
            "A.shape == (2, 3) , B.shape == (3, 2)\n",
            "C.shape == (2, 2)\n",
            "[[-22 -28]\n",
            " [-49 -64]]\n"
          ],
          "name": "stdout"
        }
      ]
    },
    {
      "metadata": {
        "id": "N2SXRf-xPQ0f",
        "colab_type": "text"
      },
      "cell_type": "markdown",
      "source": [
        "## 라이브러리 - numpy 행렬 곱(dot product) (2)\n",
        "-> 1) 행렬곱 조건을 만족하는 다양한 크기의 행렬을 연속으로 만들고  \n",
        "2) 행렬 곱을 연속으로 계산하면서 \n",
        "\n",
        "3)결과 값을 만들 수 있기 때문에 머신러닝과 이미지 프로세싱 분야에서 자주 사용됨"
      ]
    },
    {
      "metadata": {
        "id": "tHcL3gb1Qdfc",
        "colab_type": "text"
      },
      "cell_type": "markdown",
      "source": [
        "## 라이브러리 - numpy broadcast\n",
        "### 행렬의 사칙연산은 기본적으로 두개의 행렬 크기가 같은 경우에만 수행할 수 있으나 numpy 에서는 크기가 다른 두 행렬 간에도 사칙연산을 할 수 있는데 이를 브로드캐스트라고 지칭 \n",
        "### -> 차원이 작은 쪽이 큰 쪽의 행 단위로 반복적으로 크기를 맞춘 후에 계산"
      ]
    },
    {
      "metadata": {
        "id": "xwaEM2oPPDzR",
        "colab_type": "code",
        "colab": {
          "base_uri": "https://localhost:8080/",
          "height": 52
        },
        "outputId": "6e5b01b1-26e1-469c-9c75-85edf20426b7"
      },
      "cell_type": "code",
      "source": [
        "A = np.array([ [1, 2], [3, 4] ])\n",
        "b = 5\n",
        "\n",
        "print(A+b)"
      ],
      "execution_count": 22,
      "outputs": [
        {
          "output_type": "stream",
          "text": [
            "[[6 7]\n",
            " [8 9]]\n"
          ],
          "name": "stdout"
        }
      ]
    },
    {
      "metadata": {
        "id": "ijxaQq32RMa6",
        "colab_type": "code",
        "colab": {
          "base_uri": "https://localhost:8080/",
          "height": 52
        },
        "outputId": "55f87eaf-5bf7-49b0-c266-448a908f9398"
      },
      "cell_type": "code",
      "source": [
        "C = np.array([ [1, 2], [3, 4] ])\n",
        "D = np.array([4, 5])\n",
        "\n",
        "print(C+D)"
      ],
      "execution_count": 23,
      "outputs": [
        {
          "output_type": "stream",
          "text": [
            "[[5 7]\n",
            " [7 9]]\n"
          ],
          "name": "stdout"
        }
      ]
    },
    {
      "metadata": {
        "id": "O5SjyxayRcOi",
        "colab_type": "text"
      },
      "cell_type": "markdown",
      "source": [
        "## 라이브러리 - numpy 전치행렬 (transpose)\n",
        "### 정치행렬\n",
        "-> 원본 행렬의 열은 행으로, 행은 열로 바꾼것 \n",
        "원본 행렬을 A 라고하면 전치행렬은 A^T 로 나타냄\n",
        "\n",
        "즉,1행은 1열로 바꾸고 2행은 2열로,3행은 3열로 바꾼 행렬을 의미"
      ]
    },
    {
      "metadata": {
        "id": "-KQ1_sE5RYib",
        "colab_type": "code",
        "colab": {}
      },
      "cell_type": "code",
      "source": [
        "A = np.array([ [1, 2], [3, 4], [5, 6] ])   # 3X2 행렬\n",
        "\n",
        "B = A.T    # A의 전치행렬, 2X3 행렬"
      ],
      "execution_count": 0,
      "outputs": []
    },
    {
      "metadata": {
        "id": "DfiZiG_FHVAJ",
        "colab_type": "code",
        "outputId": "06779db6-c9b6-4685-ef57-581381ce2872",
        "colab": {
          "base_uri": "https://localhost:8080/",
          "height": 124
        }
      },
      "cell_type": "code",
      "source": [
        "print(\"A.shape ==\", A.shape, \", B.shape ==\", B.shape)\n",
        "print(A)\n",
        "print(B)"
      ],
      "execution_count": 25,
      "outputs": [
        {
          "output_type": "stream",
          "text": [
            "A.shape == (3, 2) , B.shape == (2, 3)\n",
            "[[1 2]\n",
            " [3 4]\n",
            " [5 6]]\n",
            "[[1 3 5]\n",
            " [2 4 6]]\n"
          ],
          "name": "stdout"
        }
      ]
    },
    {
      "metadata": {
        "id": "5jq-U-5MHbmU",
        "colab_type": "code",
        "colab": {}
      },
      "cell_type": "code",
      "source": [
        "# vector 전치행렬\n",
        "\n",
        "C = np.array([1, 2, 3, 4, 5])   #vector, matrix 아님\n",
        "D = C.T           # C는 벡터이므로 transpose 안됨"
      ],
      "execution_count": 0,
      "outputs": []
    },
    {
      "metadata": {
        "id": "6q1Hds7aHedZ",
        "colab_type": "code",
        "colab": {}
      },
      "cell_type": "code",
      "source": [
        "E = C.reshape(1, 5)    # 1X5 matrix\n",
        "F = E.T     # E의 전치행렬"
      ],
      "execution_count": 0,
      "outputs": []
    },
    {
      "metadata": {
        "id": "Su3sIULDHe-V",
        "colab_type": "code",
        "outputId": "5042c4b0-f854-4d92-8bbb-8cd7fab2f4df",
        "colab": {
          "base_uri": "https://localhost:8080/",
          "height": 141
        }
      },
      "cell_type": "code",
      "source": [
        "print(\"C.shape ==\", C.shape, \", D.shape ==\", D.shape)\n",
        "print(\"E.shape ==\", E.shape, \", F.shape ==\", F.shape)\n",
        "print(F)"
      ],
      "execution_count": 28,
      "outputs": [
        {
          "output_type": "stream",
          "text": [
            "C.shape == (5,) , D.shape == (5,)\n",
            "E.shape == (1, 5) , F.shape == (5, 1)\n",
            "[[1]\n",
            " [2]\n",
            " [3]\n",
            " [4]\n",
            " [5]]\n"
          ],
          "name": "stdout"
        }
      ]
    },
    {
      "metadata": {
        "id": "PopFpNw-Ti9H",
        "colab_type": "text"
      },
      "cell_type": "markdown",
      "source": [
        "## 라이브러리 - numpy 행렬 indexing / slicing\n",
        "\n",
        "### 행렬 원소 접근 (1)\n",
        "\n",
        "\n",
        "*   행렬 원소를 명시적으로 접근하기 위해서는 리스트처럼 인덱싱 / 슬리이싱 사용가능\n"
      ]
    },
    {
      "metadata": {
        "id": "aN_jPyrmTX0c",
        "colab_type": "code",
        "colab": {
          "base_uri": "https://localhost:8080/",
          "height": 88
        },
        "outputId": "cf44a691-31fe-4061-999b-256fd4462490"
      },
      "cell_type": "code",
      "source": [
        "A = np.array([10, 20, 30, 40, 50, 60]).reshape(3, 2)\n",
        "\n",
        "print(\"A.shape ==\", A.shape)\n",
        "print(A)"
      ],
      "execution_count": 29,
      "outputs": [
        {
          "output_type": "stream",
          "text": [
            "A.shape == (3, 2)\n",
            "[[10 20]\n",
            " [30 40]\n",
            " [50 60]]\n"
          ],
          "name": "stdout"
        }
      ]
    },
    {
      "metadata": {
        "id": "KWn-8K5NUDih",
        "colab_type": "code",
        "colab": {
          "base_uri": "https://localhost:8080/",
          "height": 52
        },
        "outputId": "709bb3fc-6a28-4760-9aa2-5074e5d45bd1"
      },
      "cell_type": "code",
      "source": [
        "print(\"A[0, 0] ==\", A[0, 0], \", A[0][0] ==\", A[0][0])  # 1행 1열\n",
        "print(\"A[2, 1] ==\", A[2, 1], \", A[2][1] ==\", A[2][1])  # 3행 2열"
      ],
      "execution_count": 30,
      "outputs": [
        {
          "output_type": "stream",
          "text": [
            "A[0, 0] == 10 , A[0][0] == 10\n",
            "A[2, 1] == 60 , A[2][1] == 60\n"
          ],
          "name": "stdout"
        }
      ]
    },
    {
      "metadata": {
        "id": "V0xTEwslUrpV",
        "colab_type": "code",
        "colab": {
          "base_uri": "https://localhost:8080/",
          "height": 52
        },
        "outputId": "0b5b440a-322b-4d0e-8f05-ac8570d071dc"
      },
      "cell_type": "code",
      "source": [
        "print(\"A[0:-1, 1:2] ==\", A[0:-1, 1:2])   # 인덱스 0인 1행부터, -1-1=-2인 2행까지의 모든 데이터\n",
        "                                         # 인덱스 1인 2열부터 2-1=1인 2열까지의 모든 데이터"
      ],
      "execution_count": 31,
      "outputs": [
        {
          "output_type": "stream",
          "text": [
            "A[0:-1, 1:2] == [[20]\n",
            " [40]]\n"
          ],
          "name": "stdout"
        }
      ]
    },
    {
      "metadata": {
        "id": "YZP0jraiU1Yn",
        "colab_type": "code",
        "colab": {
          "base_uri": "https://localhost:8080/",
          "height": 88
        },
        "outputId": "f31e410f-190a-4946-93a3-affa6b342bf7"
      },
      "cell_type": "code",
      "source": [
        "print(\"A[ :, 0] ==\", A[:, 0])   # 모든 행 1열\n",
        "print(\"A[ :, :] ==\", A[:, :])   # 모든 행, 모든 열"
      ],
      "execution_count": 32,
      "outputs": [
        {
          "output_type": "stream",
          "text": [
            "A[ :, 0] == [10 30 50]\n",
            "A[ :, :] == [[10 20]\n",
            " [30 40]\n",
            " [50 60]]\n"
          ],
          "name": "stdout"
        }
      ]
    },
    {
      "metadata": {
        "id": "Y8eZ0E7LWJIX",
        "colab_type": "text"
      },
      "cell_type": "markdown",
      "source": [
        "## 라이브러리 - numpy 행렬 iterator\n",
        "### 행렬 원소 접근(2)\n",
        "-> 행렬 모든 원소를 access 하는 경우에는 iterator 사용가능\n",
        "\n",
        "\n",
        "-> C++, Java iterator 처럼 next() 메소드를 통해 데이터 값을 처음부터 끝까지 순차적으로 읽어들이는 방법을 제공"
      ]
    },
    {
      "metadata": {
        "id": "OOPu-EQrJK0N",
        "colab_type": "code",
        "colab": {}
      },
      "cell_type": "code",
      "source": [
        "import numpy as np\n",
        "\n",
        "A = np.array([ [10, 20, 30, 40], [50, 60, 70, 80] ])"
      ],
      "execution_count": 0,
      "outputs": []
    },
    {
      "metadata": {
        "id": "2P-qO7l9VA_3",
        "colab_type": "code",
        "colab": {
          "base_uri": "https://localhost:8080/",
          "height": 106
        },
        "outputId": "a72801b8-592c-4960-ce94-f969c4d76348"
      },
      "cell_type": "code",
      "source": [
        "print(A, \"\\n\")\n",
        "print(\"A.shape ==\", A.shape, \"\\n\")"
      ],
      "execution_count": 34,
      "outputs": [
        {
          "output_type": "stream",
          "text": [
            "[[10 20 30 40]\n",
            " [50 60 70 80]] \n",
            "\n",
            "A.shape == (2, 4) \n",
            "\n"
          ],
          "name": "stdout"
        }
      ]
    },
    {
      "metadata": {
        "id": "MTpyBS3xW-qX",
        "colab_type": "code",
        "colab": {
          "base_uri": "https://localhost:8080/",
          "height": 159
        },
        "outputId": "f14acf6a-fbc6-408f-d46c-3cecc45275d4"
      },
      "cell_type": "code",
      "source": [
        "# 행렬 A의 iterator 생성\n",
        "\n",
        "it = np.nditer(A, flags=['multi_index'], op_flags=['readwrite'])\n",
        "\n",
        "while not it.finished:\n",
        "  \n",
        "  idx = it.multi_index\n",
        "  \n",
        "  print(\"current value => \", A[idx])\n",
        "  \n",
        "  it.iternext()"
      ],
      "execution_count": 35,
      "outputs": [
        {
          "output_type": "stream",
          "text": [
            "current value =>  10\n",
            "current value =>  20\n",
            "current value =>  30\n",
            "current value =>  40\n",
            "current value =>  50\n",
            "current value =>  60\n",
            "current value =>  70\n",
            "current value =>  80\n"
          ],
          "name": "stdout"
        }
      ]
    }
  ]
}
