{
  "nbformat": 4,
  "nbformat_minor": 0,
  "metadata": {
    "colab": {
      "name": "Summary_datatypes",
      "version": "0.3.2",
      "provenance": [],
      "include_colab_link": true
    },
    "kernelspec": {
      "name": "python3",
      "display_name": "Python 3"
    }
  },
  "cells": [
    {
      "cell_type": "markdown",
      "metadata": {
        "id": "view-in-github",
        "colab_type": "text"
      },
      "source": [
        "<a href=\"https://colab.research.google.com/github/minyeongChoi/py-16/blob/master/Homework/Summary_datatypes.ipynb\" target=\"_parent\"><img src=\"https://colab.research.google.com/assets/colab-badge.svg\" alt=\"Open In Colab\"/></a>"
      ]
    },
    {
      "metadata": {
        "id": "HKrucsJS59BI",
        "colab_type": "code",
        "colab": {}
      },
      "cell_type": "code",
      "source": [
        ""
      ],
      "execution_count": 0,
      "outputs": []
    },
    {
      "metadata": {
        "id": "OwzyqCQc6C7p",
        "colab_type": "text"
      },
      "cell_type": "markdown",
      "source": [
        "## Summary of datatypes in Python\n",
        "\n",
        "- list\n",
        "- dictonarry\n",
        "- Tuple\n",
        "- set\n",
        "- string"
      ]
    },
    {
      "metadata": {
        "id": "hiMUB5p36f3R",
        "colab_type": "text"
      },
      "cell_type": "markdown",
      "source": [
        "### 리스트 생성 및 항목추가"
      ]
    },
    {
      "metadata": {
        "id": "MeVTltuV6erm",
        "colab_type": "code",
        "colab": {}
      },
      "cell_type": "code",
      "source": [
        "a = [10, 20, 30, 40, 50]\n"
      ],
      "execution_count": 0,
      "outputs": []
    },
    {
      "metadata": {
        "id": "UPVcpwBi7fjZ",
        "colab_type": "code",
        "outputId": "64c79deb-2553-41bf-f4f9-70240b8496a7",
        "colab": {
          "base_uri": "https://localhost:8080/",
          "height": 54
        }
      },
      "cell_type": "code",
      "source": [
        "# 0, 1, 2,... 인덱스는 리스트 처음부터 시작\n",
        "#-1, -2, ... 인덱스는 이스트 마지막부터 시작\n",
        "print(\"a[0] ==\",  a[0], \", a[2] ==\", a[2], \", a[4] ==\", a[4])\n",
        "print(\"a[-1] ==\", a[-1],  \", a[-2] ==\", a[-2],  \", a[-5] ==\", a[-5])"
      ],
      "execution_count": 0,
      "outputs": [
        {
          "output_type": "stream",
          "text": [
            "a[0] == 10 , a[2] == 30 , a[4] == 50\n",
            "a[-1] == 50 , a[-2] == 40 , a[-5] == 10\n"
          ],
          "name": "stdout"
        }
      ]
    },
    {
      "metadata": {
        "id": "njJ6tVSA9Zgo",
        "colab_type": "code",
        "colab": {}
      },
      "cell_type": "code",
      "source": [
        "b = [ 10,20, \"Hello\",[True, 3.14] ]"
      ],
      "execution_count": 0,
      "outputs": []
    },
    {
      "metadata": {
        "id": "fIyO6CGA7akM",
        "colab_type": "code",
        "outputId": "7072c0ed-b707-4056-ace2-dfbe75d7f991",
        "colab": {
          "base_uri": "https://localhost:8080/",
          "height": 54
        }
      },
      "cell_type": "code",
      "source": [
        "# b[3] 또는 b[-1] 값은 [True, 3.14] 리스트 전체임\n",
        "\n",
        "print(\"b[0] ==\", b[0], \". b[2] ==\", b[2], \", b[3] ==\", b[3])\n",
        "print(\"b[-1] ==\", b[-1], \". b[-2] ==\", b[-2], \", b[-4] ==\", b[-4])"
      ],
      "execution_count": 0,
      "outputs": [
        {
          "output_type": "stream",
          "text": [
            "b[0] == 10 . b[2] == Hello , b[3] == [True, 3.14]\n",
            "b[-1] == [True, 3.14] . b[-2] == Hello , b[-4] == 10\n"
          ],
          "name": "stdout"
        }
      ]
    },
    {
      "metadata": {
        "id": "2I0i6GfR_G84",
        "colab_type": "code",
        "outputId": "a7301e6c-c345-4ec1-919e-f88248744936",
        "colab": {
          "base_uri": "https://localhost:8080/",
          "height": 54
        }
      },
      "cell_type": "code",
      "source": [
        "print(\"b[3][0] ==\", b[3][0], \", b[3][1] ==\", b[3][1])\n",
        "print(\"b[-1][-1] ==\", b[-1][-1], \", b[-1][-2] ==\",b[-1][-2])"
      ],
      "execution_count": 0,
      "outputs": [
        {
          "output_type": "stream",
          "text": [
            "b[3][0] == True , b[3][1] == 3.14\n",
            "b[-1][-1] == 3.14 , b[-1][-2] == True\n"
          ],
          "name": "stdout"
        }
      ]
    },
    {
      "metadata": {
        "id": "17E3t95j_1ng",
        "colab_type": "code",
        "outputId": "fde820b2-3960-4cc9-ceae-33466afc8948",
        "colab": {
          "base_uri": "https://localhost:8080/",
          "height": 35
        }
      },
      "cell_type": "code",
      "source": [
        "b[-2][-2]"
      ],
      "execution_count": 0,
      "outputs": [
        {
          "output_type": "execute_result",
          "data": {
            "text/plain": [
              "'l'"
            ]
          },
          "metadata": {
            "tags": []
          },
          "execution_count": 16
        }
      ]
    },
    {
      "metadata": {
        "id": "zFmR5IuMAAKF",
        "colab_type": "code",
        "outputId": "97332fd0-5bbe-4e4c-910a-0a521c73f026",
        "colab": {
          "base_uri": "https://localhost:8080/",
          "height": 72
        }
      },
      "cell_type": "code",
      "source": [
        "print(\"a[0:2] ==\", a[0:2], \", a[1:] ==\",a[1:])\n",
        "print(\"a[:3] ==\", a[:3], \", a[:-2] ==\",a[:-2])\n",
        "print(\"a[:] ==\", a[:])"
      ],
      "execution_count": 0,
      "outputs": [
        {
          "output_type": "stream",
          "text": [
            "a[0:2] == [10, 20] , a[1:] == [20, 30, 40, 50]\n",
            "a[:3] == [10, 20, 30] , a[:-2] == [10, 20, 30]\n",
            "a[:] == [10, 20, 30, 40, 50]\n"
          ],
          "name": "stdout"
        }
      ]
    },
    {
      "metadata": {
        "id": "AaFQm-lVCRaa",
        "colab_type": "text"
      },
      "cell_type": "markdown",
      "source": [
        "### 튜플"
      ]
    },
    {
      "metadata": {
        "id": "1DvWdc-xCNIp",
        "colab_type": "code",
        "colab": {}
      },
      "cell_type": "code",
      "source": [
        "a = ( 10, 20, 30, 40, 50 )"
      ],
      "execution_count": 0,
      "outputs": []
    },
    {
      "metadata": {
        "id": "Nc-kFnQVCbAa",
        "colab_type": "code",
        "outputId": "d60611f8-47b2-4b1c-a8ea-281a0383f018",
        "colab": {
          "base_uri": "https://localhost:8080/",
          "height": 54
        }
      },
      "cell_type": "code",
      "source": [
        "print(\"a[0] ==\", a[0], \", a[-2] ==\", a[-2], \", a[:] ==\", a[:])\n",
        "print(\"a[0:2] ==\", a[0:2], \", a[1:] ==\", a[1:])"
      ],
      "execution_count": 0,
      "outputs": [
        {
          "output_type": "stream",
          "text": [
            "a[0] == 10 , a[-2] == 40 , a[:] == (10, 20, 30, 40, 50)\n",
            "a[0:2] == (10, 20) , a[1:] == (20, 30, 40, 50)\n"
          ],
          "name": "stdout"
        }
      ]
    },
    {
      "metadata": {
        "id": "udPu-85WC23q",
        "colab_type": "code",
        "outputId": "d05274d6-76d9-4852-9966-4608b4dc5089",
        "colab": {
          "base_uri": "https://localhost:8080/",
          "height": 173
        }
      },
      "cell_type": "code",
      "source": [
        "a[0] = 100"
      ],
      "execution_count": 0,
      "outputs": [
        {
          "output_type": "error",
          "ename": "TypeError",
          "evalue": "ignored",
          "traceback": [
            "\u001b[0;31m---------------------------------------------------------------------------\u001b[0m",
            "\u001b[0;31mTypeError\u001b[0m                                 Traceback (most recent call last)",
            "\u001b[0;32m<ipython-input-20-b6d7a4db9a51>\u001b[0m in \u001b[0;36m<module>\u001b[0;34m()\u001b[0m\n\u001b[0;32m----> 1\u001b[0;31m \u001b[0ma\u001b[0m\u001b[0;34m[\u001b[0m\u001b[0;36m0\u001b[0m\u001b[0;34m]\u001b[0m \u001b[0;34m=\u001b[0m \u001b[0;36m100\u001b[0m\u001b[0;34m\u001b[0m\u001b[0m\n\u001b[0m",
            "\u001b[0;31mTypeError\u001b[0m: 'tuple' object does not support item assignment"
          ]
        }
      ]
    },
    {
      "metadata": {
        "id": "IbNTCQhOC9Ha",
        "colab_type": "text"
      },
      "cell_type": "markdown",
      "source": [
        "### dictionary"
      ]
    },
    {
      "metadata": {
        "id": "iv883tAxDBSi",
        "colab_type": "code",
        "colab": {}
      },
      "cell_type": "code",
      "source": [
        "score = { \"KIM\":90, \"LEE\":85, \"JUN\":95}"
      ],
      "execution_count": 0,
      "outputs": []
    },
    {
      "metadata": {
        "id": "RfQvSC9sDQTS",
        "colab_type": "code",
        "outputId": "2ddc00a6-a7c4-4b68-d8a4-bf3245eb8849",
        "colab": {
          "base_uri": "https://localhost:8080/",
          "height": 35
        }
      },
      "cell_type": "code",
      "source": [
        "print(\"score['KIM'] ==\", score['KIM'])"
      ],
      "execution_count": 0,
      "outputs": [
        {
          "output_type": "stream",
          "text": [
            "score['KIM'] == 90\n"
          ],
          "name": "stdout"
        }
      ]
    },
    {
      "metadata": {
        "id": "LnGmq4QsDgKk",
        "colab_type": "code",
        "outputId": "15adf6a9-2052-4962-f097-e411c7e8c333",
        "colab": {
          "base_uri": "https://localhost:8080/",
          "height": 35
        }
      },
      "cell_type": "code",
      "source": [
        "score['HAN'] = 100 # 새 원소 추가\n",
        "\n",
        "# 딕셔너리는 입력한 순서대로 데이터가 들어가는 것이 아니므로 주의해야함\n",
        "\n",
        "print(score)"
      ],
      "execution_count": 0,
      "outputs": [
        {
          "output_type": "stream",
          "text": [
            "{'KIM': 90, 'LEE': 85, 'JUN': 95, 'HAN': 100}\n"
          ],
          "name": "stdout"
        }
      ]
    },
    {
      "metadata": {
        "id": "j8R9LNYVD6mq",
        "colab_type": "code",
        "outputId": "b2253e98-8bd7-4039-9767-39f9adba6e5e",
        "colab": {
          "base_uri": "https://localhost:8080/",
          "height": 72
        }
      },
      "cell_type": "code",
      "source": [
        "# 딕셔너리 key , value, (key, value)\n",
        "\n",
        "print(\"score ket ==\",score.keys())\n",
        "print(\"score value ==\",score.values())\n",
        "print(\"score items ==\",score.items())"
      ],
      "execution_count": 0,
      "outputs": [
        {
          "output_type": "stream",
          "text": [
            "score ket == dict_keys(['KIM', 'LEE', 'JUN', 'HAN'])\n",
            "score value == dict_values([90, 85, 95, 100])\n",
            "score items == dict_items([('KIM', 90), ('LEE', 85), ('JUN', 95), ('HAN', 100)])\n"
          ],
          "name": "stdout"
        }
      ]
    },
    {
      "metadata": {
        "id": "GXtQ9YvoEbEh",
        "colab_type": "text"
      },
      "cell_type": "markdown",
      "source": [
        "### string\n"
      ]
    },
    {
      "metadata": {
        "id": "Dj6v9uCEEZ6p",
        "colab_type": "code",
        "colab": {}
      },
      "cell_type": "code",
      "source": [
        "a = 'A73,CD'"
      ],
      "execution_count": 0,
      "outputs": []
    },
    {
      "metadata": {
        "id": "2KWL7UewEhqL",
        "colab_type": "code",
        "outputId": "98492c73-e1f5-4ffa-f5b0-4ee1fa0c4cdd",
        "colab": {
          "base_uri": "https://localhost:8080/",
          "height": 35
        }
      },
      "cell_type": "code",
      "source": [
        "a[1] # a[1] 은 숫자 7이 아닌 문자열7"
      ],
      "execution_count": 0,
      "outputs": [
        {
          "output_type": "execute_result",
          "data": {
            "text/plain": [
              "'7'"
            ]
          },
          "metadata": {
            "tags": []
          },
          "execution_count": 29
        }
      ]
    },
    {
      "metadata": {
        "id": "9Q_LvWDCEkJS",
        "colab_type": "code",
        "outputId": "e0d11fbf-4ac4-41d3-a25d-1c78538bf4e9",
        "colab": {
          "base_uri": "https://localhost:8080/",
          "height": 35
        }
      },
      "cell_type": "code",
      "source": [
        "a = a + ', EFG'\n",
        "a"
      ],
      "execution_count": 0,
      "outputs": [
        {
          "output_type": "execute_result",
          "data": {
            "text/plain": [
              "'A73,CD, EFG'"
            ]
          },
          "metadata": {
            "tags": []
          },
          "execution_count": 34
        }
      ]
    },
    {
      "metadata": {
        "id": "eQIgz7lnErW6",
        "colab_type": "code",
        "outputId": "dc49b039-c11c-422a-9ff8-a4aa860792f5",
        "colab": {
          "base_uri": "https://localhost:8080/",
          "height": 35
        }
      },
      "cell_type": "code",
      "source": [
        "# split() 메서드는 특정 separator를 기준으로 문자열을 분리하여 list 리턴\n",
        "b = a.split(',')\n",
        "print(b)"
      ],
      "execution_count": 0,
      "outputs": [
        {
          "output_type": "stream",
          "text": [
            "['A73', 'CD', ' EFG']\n"
          ],
          "name": "stdout"
        }
      ]
    },
    {
      "metadata": {
        "id": "P3qOBRGzF11q",
        "colab_type": "text"
      },
      "cell_type": "markdown",
      "source": [
        "### 유용하게 사용되는 함수?\n",
        "        type(), len(), size()"
      ]
    },
    {
      "metadata": {
        "id": "QC4eKhL9F1AC",
        "colab_type": "code",
        "outputId": "87f1ce24-2e35-480a-c95e-0c4757930573",
        "colab": {
          "base_uri": "https://localhost:8080/",
          "height": 54
        }
      },
      "cell_type": "code",
      "source": [
        "a = [ 10, 20, 30, 40, 50 ]\n",
        "b = ( 10,20, 30, 40, 50)\n",
        "c = { \"KIM\":90, \"LEE\":80 }\n",
        "d = 'Seoul, Korea'\n",
        "e = [ [100, 200], [300, 400], [500, 600]]\n",
        "\n",
        "print(type(a), type(b), type(c), type(d), type(e))\n",
        "\n",
        "print(len(a), len(b), len(c), len(d), len(e))\n",
        "\n",
        "# print(size(e))  #len()과 size() 비교"
      ],
      "execution_count": 0,
      "outputs": [
        {
          "output_type": "stream",
          "text": [
            "<class 'list'> <class 'tuple'> <class 'dict'> <class 'str'> <class 'list'>\n",
            "5 5 2 12 3\n"
          ],
          "name": "stdout"
        }
      ]
    },
    {
      "metadata": {
        "id": "bFruyxZaHuyC",
        "colab_type": "text"
      },
      "cell_type": "markdown",
      "source": [
        "### list(), srt(), int()"
      ]
    },
    {
      "metadata": {
        "id": "FuVkGPJiH13q",
        "colab_type": "code",
        "outputId": "e5d8e5a8-cc52-45bc-ccad-3a44be13fabc",
        "colab": {
          "base_uri": "https://localhost:8080/",
          "height": 35
        }
      },
      "cell_type": "code",
      "source": [
        "a = 'Hello'\n",
        "b = {\"KIM\":90, \"LEE\":80 }\n",
        "\n",
        "print(list(a), list(b.keys()), list(b.values()), list(b.items()) )"
      ],
      "execution_count": 0,
      "outputs": [
        {
          "output_type": "stream",
          "text": [
            "['H', 'e', 'l', 'l', 'o'] ['KIM', 'LEE'] [90, 80] [('KIM', 90), ('LEE', 80)]\n"
          ],
          "name": "stdout"
        }
      ]
    },
    {
      "metadata": {
        "id": "KxKnnMoiIUUV",
        "colab_type": "code",
        "colab": {}
      },
      "cell_type": "code",
      "source": [
        ""
      ],
      "execution_count": 0,
      "outputs": []
    }
  ]
}